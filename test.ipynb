{
 "cells": [
  {
   "cell_type": "code",
   "execution_count": null,
   "metadata": {},
   "outputs": [],
   "source": [
    "import site\n",
    "import os\n",
    "import langflow\n",
    "\n",
    "# Get the site-packages directory\n",
    "site_packages = site.getsitepackages()\n",
    "\n",
    "# Find the langflow package\n",
    "for path in site_packages:\n",
    "    langflow_path = os.path.join(path, 'langflow')\n",
    "    if os.path.exists(langflow_path):\n",
    "        print(f\"Langflow is installed at: {langflow_path}\")\n",
    "        break\n",
    "else:\n",
    "    print(\"Langflow package not found in site-packages.\")\n",
    "\n",
    "# Alternatively, you can directly get the path of the installed module\n",
    "print(f\"Langflow module path: {os.path.dirname(langflow.__file__)}\")"
   ]
  }
 ],
 "metadata": {
  "language_info": {
   "name": "python"
  }
 },
 "nbformat": 4,
 "nbformat_minor": 2
}
